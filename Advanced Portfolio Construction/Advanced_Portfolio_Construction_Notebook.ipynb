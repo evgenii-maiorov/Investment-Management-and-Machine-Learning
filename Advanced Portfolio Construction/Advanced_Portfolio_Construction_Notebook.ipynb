{
 "cells": [
  {
   "cell_type": "markdown",
   "metadata": {},
   "source": [
    "# Advanced Portfolio Construction\n",
    "\n",
    "**Author:** Evgenii Maiorov\n",
    "\n",
    "---\n",
    "\n",
    "## Overview\n",
    "\n",
    "This notebook explores advanced techniques in portfolio construction, such as mean-variance optimization, risk parity, and the Black-Litterman model. We will demonstrate both the theoretical underpinnings and practical implementations using Python. The goal is to equip you with a robust understanding of these methods, enabling you to apply them in real-world scenarios.\n",
    "\n",
    "### Table of Contents:\n",
    "1. Factor Analysis using CAPM and Fama-French Factor Models\n",
    "\n",
    "\n",
    "---\n",
    "\n",
    "**Note:** This notebook assumes familiarity with basic financial concepts and Python programming. If you're new to any of the techniques or tools used here, please refer to the [References](#References) section for additional resources."
   ]
  },
  {
   "cell_type": "markdown",
   "metadata": {},
   "source": [
    "# Factor Analysis using CAPM and Fama-French Factor Models\n",
    "# ------------------------\n",
    "This project explores Factor Analysis, which involves breaking down a set of observed asset returns into explanatory factors. \n",
    "\n",
    "To begin, we will load the Fidelity returns data, located in `Data/FXAIX_data.csv`, using the following code:\n"
   ]
  },
  {
   "cell_type": "markdown",
   "metadata": {},
   "source": [
    "# \n",
    "\n"
   ]
  },
  {
   "cell_type": "code",
   "execution_count": null,
   "metadata": {},
   "outputs": [],
   "source": [
    "import pandas as pd\n",
    "\n",
    "brka_d = pd.read_csv(\"Data/FXAIX_data.csv\", parse_dates=True, index_col=0)\n",
    "brka_d.head()"
   ]
  },
  {
   "cell_type": "code",
   "execution_count": null,
   "metadata": {
    "vscode": {
     "languageId": "plaintext"
    }
   },
   "outputs": [],
   "source": []
  }
 ],
 "metadata": {
  "kernelspec": {
   "display_name": "Python 3 (ipykernel)",
   "language": "python",
   "name": "python3"
  },
  "language_info": {
   "codemirror_mode": {
    "name": "ipython",
    "version": 3
   },
   "file_extension": ".py",
   "mimetype": "text/x-python",
   "name": "python",
   "nbconvert_exporter": "python",
   "pygments_lexer": "ipython3",
   "version": "3.10.9"
  }
 },
 "nbformat": 4,
 "nbformat_minor": 4
}
