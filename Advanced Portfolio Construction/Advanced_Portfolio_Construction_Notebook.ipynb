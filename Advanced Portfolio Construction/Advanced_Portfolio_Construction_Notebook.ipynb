{
 "cells": [
  {
   "cell_type": "markdown",
   "metadata": {},
   "source": [
    "# Advanced Portfolio Construction\n",
    "\n",
    "**Author:** Evgenii Maiorov\n",
    "\n",
    "---\n",
    "\n",
    "## Overview\n",
    "\n",
    "This notebook explores advanced techniques in portfolio construction, such as mean-variance optimization, risk parity, and the Black-Litterman model. We will demonstrate both the theoretical underpinnings and practical implementations using Python. The goal is to equip you with a robust understanding of these methods, enabling you to apply them in real-world scenarios.\n",
    "\n",
    "### Table of Contents:\n",
    "1. Factor Analysis using CAPM and Fama-French Factor Models\n",
    "\n",
    "\n",
    "---\n",
    "\n",
    "**Note:** This notebook assumes familiarity with basic financial concepts and Python programming. If you're new to any of the techniques or tools used here, please refer to the [References](#References) section for additional resources."
   ]
  },
  {
   "cell_type": "markdown",
   "metadata": {},
   "source": [
    "# Factor Analysis using CAPM and Fama-French Factor Models\n",
    "# ------------------------\n",
    "This project explores Factor Analysis, which involves breaking down a set of observed asset returns into explanatory factors. \n",
    "\n",
    "We will be following the framework outlined in *Asset Management* by Andrew Ang (2014, Oxford University Press), specifically focusing on Chapter 10, where we analyze the returns of Berkshire Hathaway.\n",
    "\n",
    "To begin, we will load the Berkshire Hathaway returns data, located in `data/brka_d_rets.csv`, using the following code:\n"
   ]
  },
  {
   "cell_type": "markdown",
   "metadata": {},
   "source": [
    "# \n",
    "\n"
   ]
  },
  {
   "cell_type": "markdown",
   "metadata": {},
   "source": []
  }
 ],
 "metadata": {
  "kernelspec": {
   "display_name": "Python 3 (ipykernel)",
   "language": "python",
   "name": "python3"
  },
  "language_info": {
   "codemirror_mode": {
    "name": "ipython",
    "version": 3
   },
   "file_extension": ".py",
   "mimetype": "text/x-python",
   "name": "python",
   "nbconvert_exporter": "python",
   "pygments_lexer": "ipython3",
   "version": "3.10.9"
  }
 },
 "nbformat": 4,
 "nbformat_minor": 4
}
