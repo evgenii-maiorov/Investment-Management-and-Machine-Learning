{
 "cells": [
  {
   "cell_type": "markdown",
   "metadata": {},
   "source": [
    "# Statistical Analysis of Market Returns\n",
    "This project investigates the normality of financial returns using statistical tests like the Jarque-Bera test. Focusing on various market indices, including CRSP SmallCap and LargeCap, it identifies deviations from a normal distribution. The findings aim to enhance investment strategies and risk management by providing a deeper understanding of market return behaviors."
   ]
  },
  {
   "cell_type": "markdown",
   "metadata": {},
   "source": [
    "## Foundations of Risk and Performance Analysis\n",
    "In this first section, I dive into the fundamental risk and performance indicators critical to portfolio management. I start by demystifying volatility as the primary measure of risk. Then, I delve into the significance and persistence of risks in non-normal return distributions, highlighting the importance of understanding higher-order moments for strategic asset allocation.\n",
    "\n",
    "I also introduce more nuanced risk metrics like Value-at-Risk (VaR) and Conditional Value-at-Risk (CVaR), crucial for handling assets with non-standard returns. This part is about laying the essential groundwork for navigating portfolio risks and enhancing performance with a keen eye on the intricacies of asset behavior."
   ]
  },
  {
   "cell_type": "code",
   "execution_count": 161,
   "metadata": {},
   "outputs": [],
   "source": [
    "import numpy as np\n",
    "import pandas as pd\n",
    "import scipy.stats\n",
    "from scipy.stats import norm\n",
    "import matplotlib.pyplot as plt\n",
    "#import seaborn as sns\n",
    "#from datetime import datetime\n",
    "# Add any other libraries you anticipate needing"
   ]
  },
  {
   "cell_type": "markdown",
   "metadata": {},
   "source": [
    "### Risk Adjusted Returns\n",
    "\n",
    "Let's start working with some real data. I read in the monthly returns of a set of 10 portfolios formed on market caps, or market equities of the companies. Of the 10 portfolios, I would look at the largest cap and the smallest cap companies:"
   ]
  },
  {
   "cell_type": "code",
   "execution_count": 4,
   "metadata": {},
   "outputs": [
    {
     "name": "stderr",
     "output_type": "stream",
     "text": [
      "/var/folders/g8/p_3zs4gn64vc1d40qp2p3s700000gp/T/ipykernel_61517/2805160278.py:1: UserWarning: Could not infer format, so each element will be parsed individually, falling back to `dateutil`. To ensure parsing is consistent and as-expected, please specify a format.\n",
      "  me_m = pd.read_csv(\"Data/Portfolios_Formed_on_ME.csv\",\n"
     ]
    },
    {
     "data": {
      "text/html": [
       "<div>\n",
       "<style scoped>\n",
       "    .dataframe tbody tr th:only-of-type {\n",
       "        vertical-align: middle;\n",
       "    }\n",
       "\n",
       "    .dataframe tbody tr th {\n",
       "        vertical-align: top;\n",
       "    }\n",
       "\n",
       "    .dataframe thead th {\n",
       "        text-align: right;\n",
       "    }\n",
       "</style>\n",
       "<table border=\"1\" class=\"dataframe\">\n",
       "  <thead>\n",
       "    <tr style=\"text-align: right;\">\n",
       "      <th></th>\n",
       "      <th>&lt;= 0</th>\n",
       "      <th>Lo 30</th>\n",
       "      <th>Med 40</th>\n",
       "      <th>Hi 30</th>\n",
       "      <th>Lo 20</th>\n",
       "      <th>Qnt 2</th>\n",
       "      <th>Qnt 3</th>\n",
       "      <th>Qnt 4</th>\n",
       "      <th>Hi 20</th>\n",
       "      <th>Lo 10</th>\n",
       "      <th>Dec.02</th>\n",
       "      <th>Dec.03</th>\n",
       "      <th>Dec.04</th>\n",
       "      <th>Dec.05</th>\n",
       "      <th>Dec.06</th>\n",
       "      <th>Dec.07</th>\n",
       "      <th>Dec.08</th>\n",
       "      <th>Dec.09</th>\n",
       "      <th>Hi 10</th>\n",
       "    </tr>\n",
       "  </thead>\n",
       "  <tbody>\n",
       "    <tr>\n",
       "      <th>192607</th>\n",
       "      <td>NaN</td>\n",
       "      <td>-0.43</td>\n",
       "      <td>1.45</td>\n",
       "      <td>2.68</td>\n",
       "      <td>-0.57</td>\n",
       "      <td>0.37</td>\n",
       "      <td>1.65</td>\n",
       "      <td>1.50</td>\n",
       "      <td>3.33</td>\n",
       "      <td>-1.42</td>\n",
       "      <td>0.29</td>\n",
       "      <td>-0.15</td>\n",
       "      <td>0.88</td>\n",
       "      <td>1.45</td>\n",
       "      <td>1.85</td>\n",
       "      <td>1.63</td>\n",
       "      <td>1.38</td>\n",
       "      <td>3.38</td>\n",
       "      <td>3.29</td>\n",
       "    </tr>\n",
       "    <tr>\n",
       "      <th>192608</th>\n",
       "      <td>NaN</td>\n",
       "      <td>3.74</td>\n",
       "      <td>3.03</td>\n",
       "      <td>2.09</td>\n",
       "      <td>3.60</td>\n",
       "      <td>3.64</td>\n",
       "      <td>3.66</td>\n",
       "      <td>1.58</td>\n",
       "      <td>2.33</td>\n",
       "      <td>4.61</td>\n",
       "      <td>2.59</td>\n",
       "      <td>4.03</td>\n",
       "      <td>3.24</td>\n",
       "      <td>2.66</td>\n",
       "      <td>4.67</td>\n",
       "      <td>1.54</td>\n",
       "      <td>1.63</td>\n",
       "      <td>0.98</td>\n",
       "      <td>3.70</td>\n",
       "    </tr>\n",
       "    <tr>\n",
       "      <th>192609</th>\n",
       "      <td>NaN</td>\n",
       "      <td>-1.07</td>\n",
       "      <td>-0.59</td>\n",
       "      <td>0.16</td>\n",
       "      <td>-0.48</td>\n",
       "      <td>-1.55</td>\n",
       "      <td>0.03</td>\n",
       "      <td>-0.47</td>\n",
       "      <td>-0.09</td>\n",
       "      <td>0.91</td>\n",
       "      <td>-1.87</td>\n",
       "      <td>-2.27</td>\n",
       "      <td>-0.84</td>\n",
       "      <td>0.12</td>\n",
       "      <td>-0.07</td>\n",
       "      <td>-1.58</td>\n",
       "      <td>0.64</td>\n",
       "      <td>-0.86</td>\n",
       "      <td>0.67</td>\n",
       "    </tr>\n",
       "    <tr>\n",
       "      <th>192610</th>\n",
       "      <td>NaN</td>\n",
       "      <td>-3.29</td>\n",
       "      <td>-3.56</td>\n",
       "      <td>-3.06</td>\n",
       "      <td>-3.25</td>\n",
       "      <td>-4.18</td>\n",
       "      <td>-2.90</td>\n",
       "      <td>-3.36</td>\n",
       "      <td>-2.95</td>\n",
       "      <td>-4.72</td>\n",
       "      <td>-1.77</td>\n",
       "      <td>-3.36</td>\n",
       "      <td>-5.01</td>\n",
       "      <td>-3.09</td>\n",
       "      <td>-2.71</td>\n",
       "      <td>-3.45</td>\n",
       "      <td>-3.27</td>\n",
       "      <td>-3.47</td>\n",
       "      <td>-2.43</td>\n",
       "    </tr>\n",
       "    <tr>\n",
       "      <th>192611</th>\n",
       "      <td>NaN</td>\n",
       "      <td>-0.46</td>\n",
       "      <td>3.83</td>\n",
       "      <td>3.09</td>\n",
       "      <td>-0.54</td>\n",
       "      <td>2.25</td>\n",
       "      <td>3.37</td>\n",
       "      <td>3.37</td>\n",
       "      <td>3.16</td>\n",
       "      <td>-0.77</td>\n",
       "      <td>-0.32</td>\n",
       "      <td>-0.29</td>\n",
       "      <td>4.79</td>\n",
       "      <td>3.17</td>\n",
       "      <td>3.58</td>\n",
       "      <td>3.80</td>\n",
       "      <td>2.95</td>\n",
       "      <td>3.61</td>\n",
       "      <td>2.70</td>\n",
       "    </tr>\n",
       "  </tbody>\n",
       "</table>\n",
       "</div>"
      ],
      "text/plain": [
       "        <= 0  Lo 30  Med 40  Hi 30  Lo 20  Qnt 2  Qnt 3  Qnt 4  Hi 20  Lo 10  \\\n",
       "192607   NaN  -0.43    1.45   2.68  -0.57   0.37   1.65   1.50   3.33  -1.42   \n",
       "192608   NaN   3.74    3.03   2.09   3.60   3.64   3.66   1.58   2.33   4.61   \n",
       "192609   NaN  -1.07   -0.59   0.16  -0.48  -1.55   0.03  -0.47  -0.09   0.91   \n",
       "192610   NaN  -3.29   -3.56  -3.06  -3.25  -4.18  -2.90  -3.36  -2.95  -4.72   \n",
       "192611   NaN  -0.46    3.83   3.09  -0.54   2.25   3.37   3.37   3.16  -0.77   \n",
       "\n",
       "        Dec.02  Dec.03  Dec.04  Dec.05  Dec.06  Dec.07  Dec.08  Dec.09  Hi 10  \n",
       "192607    0.29   -0.15    0.88    1.45    1.85    1.63    1.38    3.38   3.29  \n",
       "192608    2.59    4.03    3.24    2.66    4.67    1.54    1.63    0.98   3.70  \n",
       "192609   -1.87   -2.27   -0.84    0.12   -0.07   -1.58    0.64   -0.86   0.67  \n",
       "192610   -1.77   -3.36   -5.01   -3.09   -2.71   -3.45   -3.27   -3.47  -2.43  \n",
       "192611   -0.32   -0.29    4.79    3.17    3.58    3.80    2.95    3.61   2.70  "
      ]
     },
     "execution_count": 4,
     "metadata": {},
     "output_type": "execute_result"
    }
   ],
   "source": [
    "me_m = pd.read_csv(\"Data/Portfolios_Formed_on_ME.csv\",\n",
    "                   header=0, index_col=0, parse_dates=True, na_values=-99.99)\n",
    "me_m.head()"
   ]
  },
  {
   "cell_type": "code",
   "execution_count": 5,
   "metadata": {},
   "outputs": [
    {
     "data": {
      "text/html": [
       "<div>\n",
       "<style scoped>\n",
       "    .dataframe tbody tr th:only-of-type {\n",
       "        vertical-align: middle;\n",
       "    }\n",
       "\n",
       "    .dataframe tbody tr th {\n",
       "        vertical-align: top;\n",
       "    }\n",
       "\n",
       "    .dataframe thead th {\n",
       "        text-align: right;\n",
       "    }\n",
       "</style>\n",
       "<table border=\"1\" class=\"dataframe\">\n",
       "  <thead>\n",
       "    <tr style=\"text-align: right;\">\n",
       "      <th></th>\n",
       "      <th>Lo 10</th>\n",
       "      <th>Hi 10</th>\n",
       "    </tr>\n",
       "  </thead>\n",
       "  <tbody>\n",
       "    <tr>\n",
       "      <th>192607</th>\n",
       "      <td>-1.42</td>\n",
       "      <td>3.29</td>\n",
       "    </tr>\n",
       "    <tr>\n",
       "      <th>192608</th>\n",
       "      <td>4.61</td>\n",
       "      <td>3.70</td>\n",
       "    </tr>\n",
       "    <tr>\n",
       "      <th>192609</th>\n",
       "      <td>0.91</td>\n",
       "      <td>0.67</td>\n",
       "    </tr>\n",
       "    <tr>\n",
       "      <th>192610</th>\n",
       "      <td>-4.72</td>\n",
       "      <td>-2.43</td>\n",
       "    </tr>\n",
       "    <tr>\n",
       "      <th>192611</th>\n",
       "      <td>-0.77</td>\n",
       "      <td>2.70</td>\n",
       "    </tr>\n",
       "  </tbody>\n",
       "</table>\n",
       "</div>"
      ],
      "text/plain": [
       "        Lo 10  Hi 10\n",
       "192607  -1.42   3.29\n",
       "192608   4.61   3.70\n",
       "192609   0.91   0.67\n",
       "192610  -4.72  -2.43\n",
       "192611  -0.77   2.70"
      ]
     },
     "execution_count": 5,
     "metadata": {},
     "output_type": "execute_result"
    }
   ],
   "source": [
    "cols = ['Lo 10', 'Hi 10']\n",
    "returns = me_m[cols]\n",
    "returns.head()"
   ]
  },
  {
   "cell_type": "markdown",
   "metadata": {},
   "source": [
    "Note that the data is already given in percentages (i.e 4.5 instead of 0.045) and we typically want to use the actual numbers (i.e. 0.045 instead of 4.5) so we should divide the raw data from the file by 100."
   ]
  },
  {
   "cell_type": "code",
   "execution_count": 6,
   "metadata": {},
   "outputs": [],
   "source": [
    "returns = returns/100"
   ]
  },
  {
   "cell_type": "code",
   "execution_count": 7,
   "metadata": {},
   "outputs": [
    {
     "data": {
      "text/plain": [
       "<Axes: >"
      ]
     },
     "execution_count": 7,
     "metadata": {},
     "output_type": "execute_result"
    },
    {
     "data": {
      "image/png": "[encoded data removed]",
      "text/plain": [
       "<Figure size 640x480 with 1 Axes>"
      ]
     },
     "metadata": {},
     "output_type": "display_data"
    }
   ],
   "source": [
    "returns.columns = ['SmallCap', 'LargeCap']\n",
    "returns.plot()"
   ]
  },
  {
   "cell_type": "code",
   "execution_count": 8,
   "metadata": {},
   "outputs": [
    {
     "data": {
      "text/plain": [
       "SmallCap    0.364525\n",
       "LargeCap    0.186647\n",
       "dtype: float64"
      ]
     },
     "execution_count": 8,
     "metadata": {},
     "output_type": "execute_result"
    }
   ],
   "source": [
    "annualized_vol = returns.std()*np.sqrt(12)\n",
    "annualized_vol"
   ]
  },
  {
   "cell_type": "code",
   "execution_count": 9,
   "metadata": {},
   "outputs": [
    {
     "data": {
      "text/plain": [
       "SmallCap    0.012642\n",
       "LargeCap    0.007589\n",
       "dtype: float64"
      ]
     },
     "execution_count": 9,
     "metadata": {},
     "output_type": "execute_result"
    }
   ],
   "source": [
    "n_months = returns.shape[0]\n",
    "return_per_month = (returns+1).prod()**(1/n_months) - 1\n",
    "return_per_month"
   ]
  },
  {
   "cell_type": "code",
   "execution_count": 10,
   "metadata": {},
   "outputs": [
    {
     "data": {
      "text/plain": [
       "SmallCap    0.162705\n",
       "LargeCap    0.094961\n",
       "dtype: float64"
      ]
     },
     "execution_count": 10,
     "metadata": {},
     "output_type": "execute_result"
    }
   ],
   "source": [
    "annualized_return = (return_per_month + 1)**12-1\n",
    "annualized_return"
   ]
  },
  {
   "cell_type": "code",
   "execution_count": 11,
   "metadata": {},
   "outputs": [
    {
     "data": {
      "text/plain": [
       "SmallCap    0.364050\n",
       "LargeCap    0.348044\n",
       "dtype: float64"
      ]
     },
     "execution_count": 11,
     "metadata": {},
     "output_type": "execute_result"
    }
   ],
   "source": [
    "riskfree_rate = 0.03\n",
    "excess_return = annualized_return - riskfree_rate\n",
    "sharpe_ratio = excess_return/annualized_vol\n",
    "sharpe_ratio"
   ]
  },
  {
   "cell_type": "markdown",
   "metadata": {},
   "source": [
    "### Computing Maximum Drawdown\n",
    "\n",
    "In this, I'll develop the code to compute the maximum drawdown of a return series.\n",
    "\n",
    "First, I read the return series:"
   ]
  },
  {
   "cell_type": "code",
   "execution_count": 12,
   "metadata": {},
   "outputs": [
    {
     "name": "stderr",
     "output_type": "stream",
     "text": [
      "/var/folders/g8/p_3zs4gn64vc1d40qp2p3s700000gp/T/ipykernel_61517/1285115287.py:3: UserWarning: Could not infer format, so each element will be parsed individually, falling back to `dateutil`. To ensure parsing is consistent and as-expected, please specify a format.\n",
      "  me_m = pd.read_csv(\"Data/Portfolios_Formed_on_ME.csv\",\n"
     ]
    },
    {
     "data": {
      "text/plain": [
       "<Axes: >"
      ]
     },
     "execution_count": 12,
     "metadata": {},
     "output_type": "execute_result"
    },
    {
     "data": {
      "image/png": "[encoded data removed]",
      "text/plain": [
       "<Figure size 640x480 with 1 Axes>"
      ]
     },
     "metadata": {},
     "output_type": "display_data"
    }
   ],
   "source": [
    "import pandas as pd\n",
    "\n",
    "me_m = pd.read_csv(\"Data/Portfolios_Formed_on_ME.csv\",\n",
    "                   header=0, index_col=0, parse_dates=True, na_values=-99.99)\n",
    "rets = me_m[['Lo 10', 'Hi 10']]\n",
    "rets.columns = ['SmallCap', 'LargeCap']\n",
    "rets = rets/100\n",
    "rets.plot.line()"
   ]
  },
  {
   "cell_type": "code",
   "execution_count": 13,
   "metadata": {},
   "outputs": [
    {
     "data": {
      "text/plain": [
       "DatetimeIndex(['1926-07-01', '1926-08-01', '1926-09-01', '1926-10-01',\n",
       "               '1926-11-01', '1926-12-01', '1927-01-01', '1927-02-01',\n",
       "               '1927-03-01', '1927-04-01',\n",
       "               ...\n",
       "               '2023-03-01', '2023-04-01', '2023-05-01', '2023-06-01',\n",
       "               '2023-07-01', '2023-08-01', '2023-09-01', '2023-10-01',\n",
       "               '2023-11-01', '2023-12-01'],\n",
       "              dtype='datetime64[ns]', length=1170, freq=None)"
      ]
     },
     "execution_count": 13,
     "metadata": {},
     "output_type": "execute_result"
    }
   ],
   "source": [
    "rets.index = pd.to_datetime(rets.index, format=\"%Y%m\")\n",
    "rets.index"
   ]
  },
  {
   "cell_type": "code",
   "execution_count": 20,
   "metadata": {},
   "outputs": [
    {
     "data": {
      "text/html": [
       "<div>\n",
       "<style scoped>\n",
       "    .dataframe tbody tr th:only-of-type {\n",
       "        vertical-align: middle;\n",
       "    }\n",
       "\n",
       "    .dataframe tbody tr th {\n",
       "        vertical-align: top;\n",
       "    }\n",
       "\n",
       "    .dataframe thead th {\n",
       "        text-align: right;\n",
       "    }\n",
       "</style>\n",
       "<table border=\"1\" class=\"dataframe\">\n",
       "  <thead>\n",
       "    <tr style=\"text-align: right;\">\n",
       "      <th></th>\n",
       "      <th>SmallCap</th>\n",
       "      <th>LargeCap</th>\n",
       "    </tr>\n",
       "  </thead>\n",
       "  <tbody>\n",
       "    <tr>\n",
       "      <th>2008-01-01</th>\n",
       "      <td>-0.0436</td>\n",
       "      <td>-0.0493</td>\n",
       "    </tr>\n",
       "    <tr>\n",
       "      <th>2008-02-01</th>\n",
       "      <td>-0.0200</td>\n",
       "      <td>-0.0259</td>\n",
       "    </tr>\n",
       "    <tr>\n",
       "      <th>2008-03-01</th>\n",
       "      <td>-0.0439</td>\n",
       "      <td>-0.0130</td>\n",
       "    </tr>\n",
       "    <tr>\n",
       "      <th>2008-04-01</th>\n",
       "      <td>0.0040</td>\n",
       "      <td>0.0488</td>\n",
       "    </tr>\n",
       "    <tr>\n",
       "      <th>2008-05-01</th>\n",
       "      <td>0.0285</td>\n",
       "      <td>0.0156</td>\n",
       "    </tr>\n",
       "    <tr>\n",
       "      <th>2008-06-01</th>\n",
       "      <td>-0.0825</td>\n",
       "      <td>-0.1020</td>\n",
       "    </tr>\n",
       "    <tr>\n",
       "      <th>2008-07-01</th>\n",
       "      <td>-0.0085</td>\n",
       "      <td>-0.0099</td>\n",
       "    </tr>\n",
       "    <tr>\n",
       "      <th>2008-08-01</th>\n",
       "      <td>0.0104</td>\n",
       "      <td>0.0092</td>\n",
       "    </tr>\n",
       "    <tr>\n",
       "      <th>2008-09-01</th>\n",
       "      <td>-0.1295</td>\n",
       "      <td>-0.1131</td>\n",
       "    </tr>\n",
       "    <tr>\n",
       "      <th>2008-10-01</th>\n",
       "      <td>-0.2074</td>\n",
       "      <td>-0.1741</td>\n",
       "    </tr>\n",
       "    <tr>\n",
       "      <th>2008-11-01</th>\n",
       "      <td>-0.1668</td>\n",
       "      <td>-0.0724</td>\n",
       "    </tr>\n",
       "    <tr>\n",
       "      <th>2008-12-01</th>\n",
       "      <td>-0.0044</td>\n",
       "      <td>0.0230</td>\n",
       "    </tr>\n",
       "  </tbody>\n",
       "</table>\n",
       "</div>"
      ],
      "text/plain": [
       "            SmallCap  LargeCap\n",
       "2008-01-01   -0.0436   -0.0493\n",
       "2008-02-01   -0.0200   -0.0259\n",
       "2008-03-01   -0.0439   -0.0130\n",
       "2008-04-01    0.0040    0.0488\n",
       "2008-05-01    0.0285    0.0156\n",
       "2008-06-01   -0.0825   -0.1020\n",
       "2008-07-01   -0.0085   -0.0099\n",
       "2008-08-01    0.0104    0.0092\n",
       "2008-09-01   -0.1295   -0.1131\n",
       "2008-10-01   -0.2074   -0.1741\n",
       "2008-11-01   -0.1668   -0.0724\n",
       "2008-12-01   -0.0044    0.0230"
      ]
     },
     "execution_count": 20,
     "metadata": {},
     "output_type": "execute_result"
    }
   ],
   "source": [
    "rets.loc[\"2008\"]"
   ]
  },
  {
   "cell_type": "code",
   "execution_count": 21,
   "metadata": {},
   "outputs": [
    {
     "data": {
      "text/html": [
       "<div>\n",
       "<style scoped>\n",
       "    .dataframe tbody tr th:only-of-type {\n",
       "        vertical-align: middle;\n",
       "    }\n",
       "\n",
       "    .dataframe tbody tr th {\n",
       "        vertical-align: top;\n",
       "    }\n",
       "\n",
       "    .dataframe thead th {\n",
       "        text-align: right;\n",
       "    }\n",
       "</style>\n",
       "<table border=\"1\" class=\"dataframe\">\n",
       "  <thead>\n",
       "    <tr style=\"text-align: right;\">\n",
       "      <th></th>\n",
       "      <th>SmallCap</th>\n",
       "      <th>LargeCap</th>\n",
       "    </tr>\n",
       "  </thead>\n",
       "  <tbody>\n",
       "    <tr>\n",
       "      <th>1926-07</th>\n",
       "      <td>-0.0142</td>\n",
       "      <td>0.0329</td>\n",
       "    </tr>\n",
       "    <tr>\n",
       "      <th>1926-08</th>\n",
       "      <td>0.0461</td>\n",
       "      <td>0.0370</td>\n",
       "    </tr>\n",
       "    <tr>\n",
       "      <th>1926-09</th>\n",
       "      <td>0.0091</td>\n",
       "      <td>0.0067</td>\n",
       "    </tr>\n",
       "    <tr>\n",
       "      <th>1926-10</th>\n",
       "      <td>-0.0472</td>\n",
       "      <td>-0.0243</td>\n",
       "    </tr>\n",
       "    <tr>\n",
       "      <th>1926-11</th>\n",
       "      <td>-0.0077</td>\n",
       "      <td>0.0270</td>\n",
       "    </tr>\n",
       "  </tbody>\n",
       "</table>\n",
       "</div>"
      ],
      "text/plain": [
       "         SmallCap  LargeCap\n",
       "1926-07   -0.0142    0.0329\n",
       "1926-08    0.0461    0.0370\n",
       "1926-09    0.0091    0.0067\n",
       "1926-10   -0.0472   -0.0243\n",
       "1926-11   -0.0077    0.0270"
      ]
     },
     "execution_count": 21,
     "metadata": {},
     "output_type": "execute_result"
    }
   ],
   "source": [
    "rets.index = rets.index.to_period('M')\n",
    "rets.head()"
   ]
  },
  {
   "cell_type": "code",
   "execution_count": 22,
   "metadata": {},
   "outputs": [
    {
     "name": "stdout",
     "output_type": "stream",
     "text": [
      "<class 'pandas.core.frame.DataFrame'>\n",
      "PeriodIndex: 1170 entries, 1926-07 to 2023-12\n",
      "Freq: M\n",
      "Data columns (total 2 columns):\n",
      " #   Column    Non-Null Count  Dtype  \n",
      "---  ------    --------------  -----  \n",
      " 0   SmallCap  1170 non-null   float64\n",
      " 1   LargeCap  1170 non-null   float64\n",
      "dtypes: float64(2)\n",
      "memory usage: 27.4 KB\n"
     ]
    }
   ],
   "source": [
    "rets.info()"
   ]
  },
  {
   "cell_type": "code",
   "execution_count": 23,
   "metadata": {},
   "outputs": [
    {
     "data": {
      "text/html": [
       "<div>\n",
       "<style scoped>\n",
       "    .dataframe tbody tr th:only-of-type {\n",
       "        vertical-align: middle;\n",
       "    }\n",
       "\n",
       "    .dataframe tbody tr th {\n",
       "        vertical-align: top;\n",
       "    }\n",
       "\n",
       "    .dataframe thead th {\n",
       "        text-align: right;\n",
       "    }\n",
       "</style>\n",
       "<table border=\"1\" class=\"dataframe\">\n",
       "  <thead>\n",
       "    <tr style=\"text-align: right;\">\n",
       "      <th></th>\n",
       "      <th>SmallCap</th>\n",
       "      <th>LargeCap</th>\n",
       "    </tr>\n",
       "  </thead>\n",
       "  <tbody>\n",
       "    <tr>\n",
       "      <th>count</th>\n",
       "      <td>1170.000000</td>\n",
       "      <td>1170.000000</td>\n",
       "    </tr>\n",
       "    <tr>\n",
       "      <th>mean</th>\n",
       "      <td>0.017194</td>\n",
       "      <td>0.009034</td>\n",
       "    </tr>\n",
       "    <tr>\n",
       "      <th>std</th>\n",
       "      <td>0.105229</td>\n",
       "      <td>0.053880</td>\n",
       "    </tr>\n",
       "    <tr>\n",
       "      <th>min</th>\n",
       "      <td>-0.293200</td>\n",
       "      <td>-0.284300</td>\n",
       "    </tr>\n",
       "    <tr>\n",
       "      <th>25%</th>\n",
       "      <td>-0.028075</td>\n",
       "      <td>-0.017275</td>\n",
       "    </tr>\n",
       "    <tr>\n",
       "      <th>50%</th>\n",
       "      <td>0.010500</td>\n",
       "      <td>0.011600</td>\n",
       "    </tr>\n",
       "    <tr>\n",
       "      <th>75%</th>\n",
       "      <td>0.049375</td>\n",
       "      <td>0.038500</td>\n",
       "    </tr>\n",
       "    <tr>\n",
       "      <th>max</th>\n",
       "      <td>1.342100</td>\n",
       "      <td>0.377900</td>\n",
       "    </tr>\n",
       "  </tbody>\n",
       "</table>\n",
       "</div>"
      ],
      "text/plain": [
       "          SmallCap     LargeCap\n",
       "count  1170.000000  1170.000000\n",
       "mean      0.017194     0.009034\n",
       "std       0.105229     0.053880\n",
       "min      -0.293200    -0.284300\n",
       "25%      -0.028075    -0.017275\n",
       "50%       0.010500     0.011600\n",
       "75%       0.049375     0.038500\n",
       "max       1.342100     0.377900"
      ]
     },
     "execution_count": 23,
     "metadata": {},
     "output_type": "execute_result"
    }
   ],
   "source": [
    "rets.describe()"
   ]
  },
  {
   "cell_type": "markdown",
   "metadata": {},
   "source": [
    "## Drawdown function"
   ]
  },
  {
   "cell_type": "code",
   "execution_count": 25,
   "metadata": {},
   "outputs": [],
   "source": [
    "import pandas as pd\n",
    "\n",
    "def calculate_drawdown(return_series: pd.Series) -> pd.DataFrame:\n",
    "    \"\"\"\n",
    "    Calculates the drawdown of a financial asset given a time series of returns.\n",
    "\n",
    "    Parameters:\n",
    "    - return_series (pd.Series): A time series of asset returns.\n",
    "\n",
    "    Returns:\n",
    "    - pd.DataFrame: A DataFrame with columns for the wealth index, the previous peaks,\n",
    "                    and the percentage drawdown.\n",
    "\n",
    "    Raises:\n",
    "    - ValueError: If the input is not a pandas Series.\n",
    "    \"\"\"\n",
    "    if not isinstance(return_series, pd.Series):\n",
    "        raise ValueError(\"Input must be a pandas Series.\")\n",
    "\n",
    "    # Calculate wealth index from a $1000 initial investment\n",
    "    wealth_index = 1000 * (1 + return_series).cumprod()\n",
    "\n",
    "    # Determine the previous peaks of the wealth index\n",
    "    previous_peaks = wealth_index.cummax()\n",
    "\n",
    "    # Calculate drawdowns as the percentage difference from previous peaks\n",
    "    drawdowns = (wealth_index - previous_peaks) / previous_peaks\n",
    "\n",
    "    # Compile wealth index, previous peaks, and drawdowns into a DataFrame\n",
    "    results = pd.DataFrame({\n",
    "        \"Wealth\": wealth_index,\n",
    "        \"Previous Peak\": previous_peaks,\n",
    "        \"Drawdown\": drawdowns\n",
    "    })\n",
    "\n",
    "    return results"
   ]
  },
  {
   "cell_type": "code",
   "execution_count": 29,
   "metadata": {},
   "outputs": [
    {
     "data": {
      "text/html": [
       "<div>\n",
       "<style scoped>\n",
       "    .dataframe tbody tr th:only-of-type {\n",
       "        vertical-align: middle;\n",
       "    }\n",
       "\n",
       "    .dataframe tbody tr th {\n",
       "        vertical-align: top;\n",
       "    }\n",
       "\n",
       "    .dataframe thead th {\n",
       "        text-align: right;\n",
       "    }\n",
       "</style>\n",
       "<table border=\"1\" class=\"dataframe\">\n",
       "  <thead>\n",
       "    <tr style=\"text-align: right;\">\n",
       "      <th></th>\n",
       "      <th>Wealth</th>\n",
       "      <th>Previous Peak</th>\n",
       "      <th>Drawdown</th>\n",
       "    </tr>\n",
       "  </thead>\n",
       "  <tbody>\n",
       "    <tr>\n",
       "      <th>1926-07</th>\n",
       "      <td>1032.900000</td>\n",
       "      <td>1032.900000</td>\n",
       "      <td>0.0000</td>\n",
       "    </tr>\n",
       "    <tr>\n",
       "      <th>1926-08</th>\n",
       "      <td>1071.117300</td>\n",
       "      <td>1071.117300</td>\n",
       "      <td>0.0000</td>\n",
       "    </tr>\n",
       "    <tr>\n",
       "      <th>1926-09</th>\n",
       "      <td>1078.293786</td>\n",
       "      <td>1078.293786</td>\n",
       "      <td>0.0000</td>\n",
       "    </tr>\n",
       "    <tr>\n",
       "      <th>1926-10</th>\n",
       "      <td>1052.091247</td>\n",
       "      <td>1078.293786</td>\n",
       "      <td>-0.0243</td>\n",
       "    </tr>\n",
       "    <tr>\n",
       "      <th>1926-11</th>\n",
       "      <td>1080.497711</td>\n",
       "      <td>1080.497711</td>\n",
       "      <td>0.0000</td>\n",
       "    </tr>\n",
       "  </tbody>\n",
       "</table>\n",
       "</div>"
      ],
      "text/plain": [
       "              Wealth  Previous Peak  Drawdown\n",
       "1926-07  1032.900000    1032.900000    0.0000\n",
       "1926-08  1071.117300    1071.117300    0.0000\n",
       "1926-09  1078.293786    1078.293786    0.0000\n",
       "1926-10  1052.091247    1078.293786   -0.0243\n",
       "1926-11  1080.497711    1080.497711    0.0000"
      ]
     },
     "execution_count": 29,
     "metadata": {},
     "output_type": "execute_result"
    }
   ],
   "source": [
    "calculate_drawdown(rets[\"LargeCap\"]).head()"
   ]
  },
  {
   "cell_type": "code",
   "execution_count": 31,
   "metadata": {},
   "outputs": [
    {
     "data": {
      "text/plain": [
       "Wealth            405.769102\n",
       "Previous Peak    1032.900000\n",
       "Drawdown           -0.840038\n",
       "dtype: float64"
      ]
     },
     "execution_count": 31,
     "metadata": {},
     "output_type": "execute_result"
    }
   ],
   "source": [
    "calculate_drawdown(rets[\"LargeCap\"]).min()"
   ]
  },
  {
   "cell_type": "code",
   "execution_count": 33,
   "metadata": {},
   "outputs": [
    {
     "data": {
      "text/plain": [
       "Wealth           460.436683\n",
       "Previous Peak    985.800000\n",
       "Drawdown          -0.837451\n",
       "dtype: float64"
      ]
     },
     "execution_count": 33,
     "metadata": {},
     "output_type": "execute_result"
    }
   ],
   "source": [
    "calculate_drawdown(rets[\"SmallCap\"]).min()"
   ]
  },
  {
   "cell_type": "code",
   "execution_count": 34,
   "metadata": {},
   "outputs": [
    {
     "data": {
      "text/plain": [
       "Period('1932-05', 'M')"
      ]
     },
     "execution_count": 34,
     "metadata": {},
     "output_type": "execute_result"
    }
   ],
   "source": [
    "calculate_drawdown(rets[\"LargeCap\"])[\"Drawdown\"].idxmin()"
   ]
  },
  {
   "cell_type": "code",
   "execution_count": 35,
   "metadata": {},
   "outputs": [
    {
     "data": {
      "text/plain": [
       "Period('1932-05', 'M')"
      ]
     },
     "execution_count": 35,
     "metadata": {},
     "output_type": "execute_result"
    }
   ],
   "source": [
    "calculate_drawdown(rets[\"SmallCap\"])[\"Drawdown\"].idxmin()"
   ]
  },
  {
   "cell_type": "code",
   "execution_count": 36,
   "metadata": {},
   "outputs": [
    {
     "data": {
      "text/plain": [
       "Period('2009-02', 'M')"
      ]
     },
     "execution_count": 36,
     "metadata": {},
     "output_type": "execute_result"
    }
   ],
   "source": [
    "calculate_drawdown(rets[\"LargeCap\"][\"1975\":])[\"Drawdown\"].idxmin()"
   ]
  },
  {
   "cell_type": "code",
   "execution_count": 37,
   "metadata": {},
   "outputs": [
    {
     "data": {
      "text/plain": [
       "Period('2009-02', 'M')"
      ]
     },
     "execution_count": 37,
     "metadata": {},
     "output_type": "execute_result"
    }
   ],
   "source": [
    "calculate_drawdown(rets[\"SmallCap\"][\"1975\":])[\"Drawdown\"].idxmin()"
   ]
  },
  {
   "cell_type": "code",
   "execution_count": 38,
   "metadata": {},
   "outputs": [
    {
     "data": {
      "text/plain": [
       "-0.6368665082051987"
      ]
     },
     "execution_count": 38,
     "metadata": {},
     "output_type": "execute_result"
    }
   ],
   "source": [
    "calculate_drawdown(rets[\"SmallCap\"][\"1975\":])[\"Drawdown\"].min()"
   ]
  },
  {
   "cell_type": "code",
   "execution_count": 41,
   "metadata": {},
   "outputs": [],
   "source": [
    "df_drawdown = calculate_drawdown(rets[\"SmallCap\"][\"1975\":])"
   ]
  },
  {
   "cell_type": "code",
   "execution_count": 42,
   "metadata": {},
   "outputs": [
    {
     "data": {
      "text/plain": [
       "<Axes: >"
      ]
     },
     "execution_count": 42,
     "metadata": {},
     "output_type": "execute_result"
    },
    {
     "data": {
      "image/png": "[encoded data removed]",
      "text/plain": [
       "<Figure size 640x480 with 1 Axes>"
      ]
     },
     "metadata": {},
     "output_type": "display_data"
    }
   ],
   "source": [
    "df_drawdown['Drawdown'].plot()"
   ]
  },
  {
   "cell_type": "markdown",
   "metadata": {},
   "source": [
    "## Deviations from Normality\n",
    "\n"
   ]
  },
  {
   "cell_type": "code",
   "execution_count": 122,
   "metadata": {},
   "outputs": [],
   "source": [
    "def get_hfi_returns(filepath=\"data/edhec-hedgefundindices.csv\"):\n",
    "    \"\"\"\n",
    "    Load and format the EDHEC Hedge Fund Index Returns.\n",
    "\n",
    "    Parameters:\n",
    "    - filepath: str, the path to the CSV file containing the hedge fund indices data.\n",
    "\n",
    "    Returns:\n",
    "    - hfi: DataFrame, the formatted hedge fund indices with dates as a PeriodIndex.\n",
    "    \"\"\"\n",
    "    try:\n",
    "        # Load the CSV file, automatically parse dates, and set the first column as the index\n",
    "        hfi = pd.read_csv(filepath, sep=';', index_col='date', parse_dates=True, dayfirst=True)\n",
    "        # Convert percentage strings to floats and divide by 100\n",
    "        hfi = hfi.apply(lambda x: x.str.rstrip('%').astype('float') / 100 if x.dtype == 'object' else x)\n",
    "        # Convert the index to a monthly period\n",
    "        hfi.index = hfi.index.to_period('M')\n",
    "    except FileNotFoundError:\n",
    "        print(f\"File not found: {filepath}\")\n",
    "        return None\n",
    "    except Exception as e:\n",
    "        print(f\"An error occurred: {e}\")\n",
    "        return None\n",
    "\n",
    "    return hfi"
   ]
  },
  {
   "cell_type": "code",
   "execution_count": 123,
   "metadata": {},
   "outputs": [
    {
     "data": {
      "text/html": [
       "<div>\n",
       "<style scoped>\n",
       "    .dataframe tbody tr th:only-of-type {\n",
       "        vertical-align: middle;\n",
       "    }\n",
       "\n",
       "    .dataframe tbody tr th {\n",
       "        vertical-align: top;\n",
       "    }\n",
       "\n",
       "    .dataframe thead th {\n",
       "        text-align: right;\n",
       "    }\n",
       "</style>\n",
       "<table border=\"1\" class=\"dataframe\">\n",
       "  <thead>\n",
       "    <tr style=\"text-align: right;\">\n",
       "      <th></th>\n",
       "      <th>Convertible Arbitrage</th>\n",
       "      <th>CTA Global</th>\n",
       "      <th>Distressed Securities</th>\n",
       "      <th>Emerging Markets</th>\n",
       "      <th>Equity Market Neutral</th>\n",
       "      <th>Event Driven</th>\n",
       "      <th>Fixed Income Arbitrage</th>\n",
       "      <th>Global Macro</th>\n",
       "      <th>Long/Short Equity</th>\n",
       "      <th>Merger Arbitrage</th>\n",
       "      <th>Relative Value</th>\n",
       "      <th>Short Selling</th>\n",
       "      <th>Funds Of Funds</th>\n",
       "    </tr>\n",
       "    <tr>\n",
       "      <th>date</th>\n",
       "      <th></th>\n",
       "      <th></th>\n",
       "      <th></th>\n",
       "      <th></th>\n",
       "      <th></th>\n",
       "      <th></th>\n",
       "      <th></th>\n",
       "      <th></th>\n",
       "      <th></th>\n",
       "      <th></th>\n",
       "      <th></th>\n",
       "      <th></th>\n",
       "      <th></th>\n",
       "    </tr>\n",
       "  </thead>\n",
       "  <tbody>\n",
       "    <tr>\n",
       "      <th>1997-01</th>\n",
       "      <td>0.0119</td>\n",
       "      <td>0.0393</td>\n",
       "      <td>0.0178</td>\n",
       "      <td>0.0791</td>\n",
       "      <td>0.0189</td>\n",
       "      <td>0.0213</td>\n",
       "      <td>0.0191</td>\n",
       "      <td>0.0573</td>\n",
       "      <td>0.0281</td>\n",
       "      <td>0.0150</td>\n",
       "      <td>0.0180</td>\n",
       "      <td>-0.0166</td>\n",
       "      <td>0.0317</td>\n",
       "    </tr>\n",
       "    <tr>\n",
       "      <th>1997-02</th>\n",
       "      <td>0.0123</td>\n",
       "      <td>0.0298</td>\n",
       "      <td>0.0122</td>\n",
       "      <td>0.0525</td>\n",
       "      <td>0.0101</td>\n",
       "      <td>0.0084</td>\n",
       "      <td>0.0122</td>\n",
       "      <td>0.0175</td>\n",
       "      <td>-0.0006</td>\n",
       "      <td>0.0034</td>\n",
       "      <td>0.0118</td>\n",
       "      <td>0.0426</td>\n",
       "      <td>0.0106</td>\n",
       "    </tr>\n",
       "    <tr>\n",
       "      <th>1997-03</th>\n",
       "      <td>0.0078</td>\n",
       "      <td>-0.0021</td>\n",
       "      <td>-0.0012</td>\n",
       "      <td>-0.0120</td>\n",
       "      <td>0.0016</td>\n",
       "      <td>-0.0023</td>\n",
       "      <td>0.0109</td>\n",
       "      <td>-0.0119</td>\n",
       "      <td>-0.0084</td>\n",
       "      <td>0.0060</td>\n",
       "      <td>0.0010</td>\n",
       "      <td>0.0778</td>\n",
       "      <td>-0.0077</td>\n",
       "    </tr>\n",
       "    <tr>\n",
       "      <th>1997-04</th>\n",
       "      <td>0.0086</td>\n",
       "      <td>-0.0170</td>\n",
       "      <td>0.0030</td>\n",
       "      <td>0.0119</td>\n",
       "      <td>0.0119</td>\n",
       "      <td>-0.0005</td>\n",
       "      <td>0.0130</td>\n",
       "      <td>0.0172</td>\n",
       "      <td>0.0084</td>\n",
       "      <td>-0.0001</td>\n",
       "      <td>0.0122</td>\n",
       "      <td>-0.0129</td>\n",
       "      <td>0.0009</td>\n",
       "    </tr>\n",
       "    <tr>\n",
       "      <th>1997-05</th>\n",
       "      <td>0.0156</td>\n",
       "      <td>-0.0015</td>\n",
       "      <td>0.0233</td>\n",
       "      <td>0.0315</td>\n",
       "      <td>0.0189</td>\n",
       "      <td>0.0346</td>\n",
       "      <td>0.0118</td>\n",
       "      <td>0.0108</td>\n",
       "      <td>0.0394</td>\n",
       "      <td>0.0197</td>\n",
       "      <td>0.0173</td>\n",
       "      <td>-0.0737</td>\n",
       "      <td>0.0275</td>\n",
       "    </tr>\n",
       "  </tbody>\n",
       "</table>\n",
       "</div>"
      ],
      "text/plain": [
       "         Convertible Arbitrage  CTA Global  Distressed Securities  \\\n",
       "date                                                                \n",
       "1997-01                 0.0119      0.0393                 0.0178   \n",
       "1997-02                 0.0123      0.0298                 0.0122   \n",
       "1997-03                 0.0078     -0.0021                -0.0012   \n",
       "1997-04                 0.0086     -0.0170                 0.0030   \n",
       "1997-05                 0.0156     -0.0015                 0.0233   \n",
       "\n",
       "         Emerging Markets  Equity Market Neutral  Event Driven  \\\n",
       "date                                                             \n",
       "1997-01            0.0791                 0.0189        0.0213   \n",
       "1997-02            0.0525                 0.0101        0.0084   \n",
       "1997-03           -0.0120                 0.0016       -0.0023   \n",
       "1997-04            0.0119                 0.0119       -0.0005   \n",
       "1997-05            0.0315                 0.0189        0.0346   \n",
       "\n",
       "         Fixed Income Arbitrage  Global Macro  Long/Short Equity  \\\n",
       "date                                                               \n",
       "1997-01                  0.0191        0.0573             0.0281   \n",
       "1997-02                  0.0122        0.0175            -0.0006   \n",
       "1997-03                  0.0109       -0.0119            -0.0084   \n",
       "1997-04                  0.0130        0.0172             0.0084   \n",
       "1997-05                  0.0118        0.0108             0.0394   \n",
       "\n",
       "         Merger Arbitrage  Relative Value  Short Selling  Funds Of Funds  \n",
       "date                                                                      \n",
       "1997-01            0.0150          0.0180        -0.0166          0.0317  \n",
       "1997-02            0.0034          0.0118         0.0426          0.0106  \n",
       "1997-03            0.0060          0.0010         0.0778         -0.0077  \n",
       "1997-04           -0.0001          0.0122        -0.0129          0.0009  \n",
       "1997-05            0.0197          0.0173        -0.0737          0.0275  "
      ]
     },
     "execution_count": 123,
     "metadata": {},
     "output_type": "execute_result"
    }
   ],
   "source": [
    "hfi = get_hfi_returns()\n",
    "hfi.head()"
   ]
  },
  {
   "cell_type": "markdown",
   "metadata": {},
   "source": [
    "## Skewness\n",
    "\n",
    "A negative skew indicates a higher frequency of negative returns than expected under a normal distribution.\n",
    "\n",
    "Typically, in a normal distribution, the mean and median are similar. With negative skewness, the mean (expected value) is lower than the median, whereas it's higher in the case of positive skewness."
   ]
  },
  {
   "cell_type": "code",
   "execution_count": 100,
   "metadata": {},
   "outputs": [
    {
     "data": {
      "text/html": [
       "<div>\n",
       "<style scoped>\n",
       "    .dataframe tbody tr th:only-of-type {\n",
       "        vertical-align: middle;\n",
       "    }\n",
       "\n",
       "    .dataframe tbody tr th {\n",
       "        vertical-align: top;\n",
       "    }\n",
       "\n",
       "    .dataframe thead th {\n",
       "        text-align: right;\n",
       "    }\n",
       "</style>\n",
       "<table border=\"1\" class=\"dataframe\">\n",
       "  <thead>\n",
       "    <tr style=\"text-align: right;\">\n",
       "      <th></th>\n",
       "      <th>0</th>\n",
       "      <th>1</th>\n",
       "      <th>2</th>\n",
       "    </tr>\n",
       "  </thead>\n",
       "  <tbody>\n",
       "    <tr>\n",
       "      <th>Convertible Arbitrage</th>\n",
       "      <td>0.005781</td>\n",
       "      <td>0.00650</td>\n",
       "      <td>False</td>\n",
       "    </tr>\n",
       "    <tr>\n",
       "      <th>CTA Global</th>\n",
       "      <td>0.004284</td>\n",
       "      <td>0.00190</td>\n",
       "      <td>True</td>\n",
       "    </tr>\n",
       "    <tr>\n",
       "      <th>Distressed Securities</th>\n",
       "      <td>0.006837</td>\n",
       "      <td>0.00880</td>\n",
       "      <td>False</td>\n",
       "    </tr>\n",
       "    <tr>\n",
       "      <th>Emerging Markets</th>\n",
       "      <td>0.006740</td>\n",
       "      <td>0.00985</td>\n",
       "      <td>False</td>\n",
       "    </tr>\n",
       "    <tr>\n",
       "      <th>Equity Market Neutral</th>\n",
       "      <td>0.004330</td>\n",
       "      <td>0.00465</td>\n",
       "      <td>False</td>\n",
       "    </tr>\n",
       "    <tr>\n",
       "      <th>Event Driven</th>\n",
       "      <td>0.006660</td>\n",
       "      <td>0.00875</td>\n",
       "      <td>False</td>\n",
       "    </tr>\n",
       "    <tr>\n",
       "      <th>Fixed Income Arbitrage</th>\n",
       "      <td>0.004404</td>\n",
       "      <td>0.00550</td>\n",
       "      <td>False</td>\n",
       "    </tr>\n",
       "    <tr>\n",
       "      <th>Global Macro</th>\n",
       "      <td>0.005539</td>\n",
       "      <td>0.00465</td>\n",
       "      <td>True</td>\n",
       "    </tr>\n",
       "    <tr>\n",
       "      <th>Long/Short Equity</th>\n",
       "      <td>0.006700</td>\n",
       "      <td>0.00815</td>\n",
       "      <td>False</td>\n",
       "    </tr>\n",
       "    <tr>\n",
       "      <th>Merger Arbitrage</th>\n",
       "      <td>0.005569</td>\n",
       "      <td>0.00590</td>\n",
       "      <td>False</td>\n",
       "    </tr>\n",
       "    <tr>\n",
       "      <th>Relative Value</th>\n",
       "      <td>0.005721</td>\n",
       "      <td>0.00665</td>\n",
       "      <td>False</td>\n",
       "    </tr>\n",
       "    <tr>\n",
       "      <th>Short Selling</th>\n",
       "      <td>-0.001168</td>\n",
       "      <td>-0.00350</td>\n",
       "      <td>True</td>\n",
       "    </tr>\n",
       "    <tr>\n",
       "      <th>Funds Of Funds</th>\n",
       "      <td>0.004508</td>\n",
       "      <td>0.00520</td>\n",
       "      <td>False</td>\n",
       "    </tr>\n",
       "  </tbody>\n",
       "</table>\n",
       "</div>"
      ],
      "text/plain": [
       "                               0        1      2\n",
       "Convertible Arbitrage   0.005781  0.00650  False\n",
       "CTA Global              0.004284  0.00190   True\n",
       "Distressed Securities   0.006837  0.00880  False\n",
       "Emerging Markets        0.006740  0.00985  False\n",
       "Equity Market Neutral   0.004330  0.00465  False\n",
       "Event Driven            0.006660  0.00875  False\n",
       "Fixed Income Arbitrage  0.004404  0.00550  False\n",
       "Global Macro            0.005539  0.00465   True\n",
       "Long/Short Equity       0.006700  0.00815  False\n",
       "Merger Arbitrage        0.005569  0.00590  False\n",
       "Relative Value          0.005721  0.00665  False\n",
       "Short Selling          -0.001168 -0.00350   True\n",
       "Funds Of Funds          0.004508  0.00520  False"
      ]
     },
     "execution_count": 100,
     "metadata": {},
     "output_type": "execute_result"
    }
   ],
   "source": [
    "pd.concat([hfi.mean(), hfi.median(), hfi.mean()>hfi.median()], axis=1)"
   ]
  },
  {
   "cell_type": "markdown",
   "metadata": {},
   "source": [
    "The skewness is given by:\n",
    "\n",
    "$$ S(R) = \\frac{E[ (R-E(R))^3 ]}{\\sigma_R^3} $$\n"
   ]
  },
  {
   "cell_type": "code",
   "execution_count": 124,
   "metadata": {},
   "outputs": [],
   "source": [
    "def skewness(r):\n",
    "    \"\"\"\n",
    "    Computes the skewness of the supplied pandas Series or DataFrame along each column.\n",
    "    \n",
    "    This is an alternative to scipy.stats.skew() specifically designed for pandas data structures.\n",
    "    It uses the population standard deviation (degrees of freedom = 0) for its calculation.\n",
    "    \n",
    "    Parameters:\n",
    "    - r: pandas Series or DataFrame. The data for which skewness is to be computed.\n",
    "    \n",
    "    Returns:\n",
    "    - A float or a pandas Series representing the skewness of the input. For a Series input,\n",
    "      a single float value is returned. For a DataFrame, a Series is returned with the skewness\n",
    "      value for each column.\n",
    "    \n",
    "    Notes:\n",
    "    - This function returns NaN for columns where the standard deviation is zero,\n",
    "      indicating that skewness is undefined in such scenarios.\n",
    "    \"\"\"\n",
    "    demeaned_r = r - r.mean()\n",
    "    sigma_r = r.std(ddof=0)\n",
    "    \n",
    "    # Prevent division by zero by returning NaN if sigma_r is 0\n",
    "    if (sigma_r == 0).any():\n",
    "        return float('nan') if isinstance(r, pd.Series) else pd.Series([float('nan')] * len(r.columns), index=r.columns)\n",
    "    \n",
    "    exp = (demeaned_r**3).mean()\n",
    "    return exp / sigma_r**3"
   ]
  },
  {
   "cell_type": "code",
   "execution_count": 125,
   "metadata": {},
   "outputs": [
    {
     "data": {
      "text/plain": [
       "Fixed Income Arbitrage   -3.784087\n",
       "Convertible Arbitrage    -2.598859\n",
       "Relative Value           -2.079472\n",
       "Equity Market Neutral    -1.918140\n",
       "Event Driven             -1.881176\n",
       "Distressed Securities    -1.732838\n",
       "Merger Arbitrage         -1.620384\n",
       "Emerging Markets         -1.223409\n",
       "Funds Of Funds           -0.597301\n",
       "Long/Short Equity        -0.468476\n",
       "CTA Global                0.167094\n",
       "Short Selling             0.758959\n",
       "Global Macro              0.884331\n",
       "dtype: float64"
      ]
     },
     "execution_count": 125,
     "metadata": {},
     "output_type": "execute_result"
    }
   ],
   "source": [
    "skewness(hfi).sort_values()"
   ]
  },
  {
   "cell_type": "markdown",
   "metadata": {},
   "source": [
    "Just to see if we get the same answer, let's use the skewness function that is built into `scipy.stats`"
   ]
  },
  {
   "cell_type": "code",
   "execution_count": 126,
   "metadata": {},
   "outputs": [
    {
     "data": {
      "text/plain": [
       "array([-2.5988594 ,  0.16709409, -1.73283848, -1.22340855, -1.91814041,\n",
       "       -1.88117628, -3.78408679,  0.88433107, -0.46847577, -1.62038409,\n",
       "       -2.07947152,         nan, -0.59730067])"
      ]
     },
     "execution_count": 126,
     "metadata": {},
     "output_type": "execute_result"
    }
   ],
   "source": [
    "scipy.stats.skew(hfi)"
   ]
  },
  {
   "cell_type": "markdown",
   "metadata": {},
   "source": [
    "# Kurtosis\n",
    "\n",
    "Kurtosis measures tail thickness in distributions. A kurtosis less than 3 suggests thinner tails compared to the normal distribution's kurtosis of 3, while a higher kurtosis indicates fatter tails."
   ]
  },
  {
   "cell_type": "markdown",
   "metadata": {},
   "source": [
    "\n",
    "Kurtosis is given by:\n",
    "\n",
    "$$ K(R) = \\frac{E[ (R-E(R))^4 ]}{\\sigma_R^4} $$"
   ]
  },
  {
   "cell_type": "code",
   "execution_count": 127,
   "metadata": {},
   "outputs": [],
   "source": [
    "def kurtosis(r):\n",
    "    \"\"\"\n",
    "    Computes the kurtosis of the supplied pandas Series or DataFrame along each column.\n",
    "    \n",
    "    This function computes the kurtosis using the population standard deviation (degrees of freedom = 0)\n",
    "    for its calculation. The result is the excess kurtosis, with 3 subtracted from the\n",
    "    kurtosis of a normal distribution being considered as 0.\n",
    "    \n",
    "    Parameters:\n",
    "    - r: pandas Series or DataFrame. The data for which kurtosis is to be computed.\n",
    "    \n",
    "    Returns:\n",
    "    - A float or a pandas Series representing the kurtosis of the input. For a Series input,\n",
    "      a single float value is returned. For a DataFrame, a Series is returned with the kurtosis\n",
    "      value for each column.\n",
    "    \n",
    "    Notes:\n",
    "    - This function returns NaN for columns where the standard deviation is zero,\n",
    "      indicating that kurtosis is undefined in such scenarios.\n",
    "    \"\"\"\n",
    "    demeaned_r = r - r.mean()\n",
    "    sigma_r = r.std(ddof=0)\n",
    "    \n",
    "    # Prevent division by zero by returning NaN if sigma_r is 0\n",
    "    if (sigma_r == 0).any():\n",
    "        return float('nan') if isinstance(r, pd.Series) else pd.Series([float('nan')] * len(r.columns), index=r.columns)\n",
    "    \n",
    "    exp = (demeaned_r**4).mean()\n",
    "    # Adjust the calculation if you want to return \"excess kurtosis\" by subtracting 3.\n",
    "    # return exp / sigma_r**4 - 3\n",
    "    return exp / sigma_r**4"
   ]
  },
  {
   "cell_type": "code",
   "execution_count": 128,
   "metadata": {},
   "outputs": [
    {
     "data": {
      "text/plain": [
       "Convertible Arbitrage     21.661630\n",
       "CTA Global                 2.999865\n",
       "Distressed Securities     10.833276\n",
       "Emerging Markets           9.044334\n",
       "Equity Market Neutral     15.469866\n",
       "Event Driven              13.308981\n",
       "Fixed Income Arbitrage    28.476464\n",
       "Global Macro               5.474004\n",
       "Long/Short Equity          4.916137\n",
       "Merger Arbitrage          15.806243\n",
       "Relative Value            13.196580\n",
       "Short Selling              6.461034\n",
       "Funds Of Funds             7.420199\n",
       "dtype: float64"
      ]
     },
     "execution_count": 128,
     "metadata": {},
     "output_type": "execute_result"
    }
   ],
   "source": [
    "kurtosis(hfi)"
   ]
  },
  {
   "cell_type": "markdown",
   "metadata": {},
   "source": [
    "## Jarque-Bera Test for Normality\n",
    "\n",
    "Use the `scipy.stats` module to perform the _Jarque-Bera_ test on a dataset, ideal for evaluating normally generated returns."
   ]
  },
  {
   "cell_type": "code",
   "execution_count": 129,
   "metadata": {},
   "outputs": [],
   "source": [
    "normal_rets = np.random.normal(0, 0.15, (263, 1))"
   ]
  },
  {
   "cell_type": "code",
   "execution_count": 130,
   "metadata": {},
   "outputs": [
    {
     "data": {
      "text/plain": [
       "SignificanceResult(statistic=2.860433927290411, pvalue=0.23925700653976814)"
      ]
     },
     "execution_count": 130,
     "metadata": {},
     "output_type": "execute_result"
    }
   ],
   "source": [
    "scipy.stats.jarque_bera(normal_rets)"
   ]
  },
  {
   "cell_type": "markdown",
   "metadata": {},
   "source": [
    "The output provides two numbers: the test statistic and the critical p-value, with the latter being key for our hypothesis test. To accept normal distribution at a 1% significance level, the p-value should exceed 0.01. A p-value below 0.01 indicates rejection of normality. Here, a p-value above 0.01 supports the normality assumption. Next, we'll apply this to various hedge fund indices."
   ]
  },
  {
   "cell_type": "code",
   "execution_count": 131,
   "metadata": {
    "tags": []
   },
   "outputs": [
    {
     "data": {
      "text/plain": [
       "SignificanceResult(statistic=26699.79080578464, pvalue=0.0)"
      ]
     },
     "execution_count": 131,
     "metadata": {},
     "output_type": "execute_result"
    }
   ],
   "source": [
    "scipy.stats.jarque_bera(hfi, nan_policy='omit')"
   ]
  },
  {
   "cell_type": "markdown",
   "metadata": {},
   "source": [
    "To treat each column as individual returns, create a wrapper function:"
   ]
  },
  {
   "cell_type": "code",
   "execution_count": 138,
   "metadata": {},
   "outputs": [],
   "source": [
    "def is_normal(r, level=0.01):\n",
    "    \"\"\"\n",
    "    Applies the Jarque-Bera test to determine if a Series, DataFrame, or NumPy array \n",
    "    is normally distributed. The test is applied at the specified significance level, \n",
    "    defaulting to 1%.\n",
    "\n",
    "    Parameters:\n",
    "    - r: pandas Series, DataFrame, or NumPy array. The data for which the test of normality is to be applied.\n",
    "    - level: float, optional. The significance level at which the hypothesis is tested. \n",
    "             A lower value means a stricter criterion for normality. Default is 0.01.\n",
    "\n",
    "    Returns:\n",
    "    - For a Series or NumPy array: True if the hypothesis of normality is accepted, False otherwise.\n",
    "    - For a DataFrame: A Series indicating True or False for each column.\n",
    "    \"\"\"\n",
    "    if isinstance(r, pd.DataFrame):\n",
    "        return r.aggregate(is_normal)\n",
    "    else:\n",
    "        statistic, p_value = scipy.stats.jarque_bera(r)\n",
    "        return p_value > level\n"
   ]
  },
  {
   "cell_type": "code",
   "execution_count": 139,
   "metadata": {},
   "outputs": [
    {
     "data": {
      "text/plain": [
       "True"
      ]
     },
     "execution_count": 139,
     "metadata": {},
     "output_type": "execute_result"
    }
   ],
   "source": [
    "is_normal(normal_rets)"
   ]
  },
  {
   "cell_type": "code",
   "execution_count": 140,
   "metadata": {},
   "outputs": [
    {
     "data": {
      "text/plain": [
       "Convertible Arbitrage     False\n",
       "CTA Global                 True\n",
       "Distressed Securities     False\n",
       "Emerging Markets          False\n",
       "Equity Market Neutral     False\n",
       "Event Driven              False\n",
       "Fixed Income Arbitrage    False\n",
       "Global Macro              False\n",
       "Long/Short Equity         False\n",
       "Merger Arbitrage          False\n",
       "Relative Value            False\n",
       "Short Selling             False\n",
       "Funds Of Funds            False\n",
       "dtype: bool"
      ]
     },
     "execution_count": 140,
     "metadata": {},
     "output_type": "execute_result"
    }
   ],
   "source": [
    "hfi.aggregate(is_normal)"
   ]
  },
  {
   "cell_type": "markdown",
   "metadata": {},
   "source": [
    "## Normality Test for CRSP SmallCap and LargeCap Returns\n",
    "\n",
    "Examine the normality of the returns studied."
   ]
  },
  {
   "cell_type": "code",
   "execution_count": 141,
   "metadata": {},
   "outputs": [],
   "source": [
    "def get_ffme_returns(filepath=\"data/Portfolios_Formed_on_ME.csv\"):\n",
    "    \"\"\"\n",
    "    Load and preprocess the Fama-French Dataset for the returns of the Top and Bottom Deciles by MarketCap.\n",
    "    \n",
    "    Parameters:\n",
    "    - filepath: str, optional. The path to the CSV file containing the Fama-French Dataset. Default is \"data/Portfolios_Formed_on_ME.csv\".\n",
    "    \n",
    "    Returns:\n",
    "    - rets: pandas DataFrame. Preprocessed returns with columns ['SmallCap', 'LargeCap'] and a period-index formatted as monthly periods.\n",
    "    \n",
    "    Raises:\n",
    "    - FileNotFoundError: If the specified file cannot be found.\n",
    "    - Exception: For other issues that arise during file loading or preprocessing.\n",
    "    \"\"\"\n",
    "    try:\n",
    "        # Load the dataset, specifying NA values and the index column\n",
    "        me_m = pd.read_csv(filepath, header=0, index_col=0, na_values=['-99.99', ''])\n",
    "        rets = me_m[['Lo 10', 'Hi 10']]\n",
    "        rets.columns = ['SmallCap', 'LargeCap']\n",
    "        rets = rets / 100\n",
    "        rets.index = pd.to_datetime(rets.index, format=\"%Y%m\").to_period('M')\n",
    "    except FileNotFoundError:\n",
    "        raise FileNotFoundError(f\"File not found: {filepath}\")\n",
    "    except Exception as e:\n",
    "        raise Exception(f\"An error occurred while processing the file: {e}\")\n",
    "    \n",
    "    return rets"
   ]
  },
  {
   "cell_type": "code",
   "execution_count": 142,
   "metadata": {},
   "outputs": [
    {
     "data": {
      "text/plain": [
       "SmallCap    4.302995\n",
       "LargeCap    0.208150\n",
       "dtype: float64"
      ]
     },
     "execution_count": 142,
     "metadata": {},
     "output_type": "execute_result"
    }
   ],
   "source": [
    "ffme = get_ffme_returns()\n",
    "skewness(ffme)"
   ]
  },
  {
   "cell_type": "code",
   "execution_count": 143,
   "metadata": {},
   "outputs": [
    {
     "data": {
      "text/plain": [
       "SmallCap    46.037543\n",
       "LargeCap    10.307192\n",
       "dtype: float64"
      ]
     },
     "execution_count": 143,
     "metadata": {},
     "output_type": "execute_result"
    }
   ],
   "source": [
    "kurtosis(ffme)"
   ]
  },
  {
   "cell_type": "code",
   "execution_count": 144,
   "metadata": {},
   "outputs": [
    {
     "data": {
      "text/plain": [
       "SmallCap    False\n",
       "LargeCap    False\n",
       "dtype: bool"
      ]
     },
     "execution_count": 144,
     "metadata": {},
     "output_type": "execute_result"
    }
   ],
   "source": [
    "is_normal(ffme)"
   ]
  },
  {
   "cell_type": "markdown",
   "metadata": {},
   "source": [
    "# Downside Risk: SemiDeviation, VaR, and CVaR\n",
    "\n",
    "In this section, we focus on downside risk measures: SemiDeviation, Value at Risk (VaR), and Conditional Value at Risk (CVaR). These metrics are crucial for understanding and managing the risks associated with negative returns in investment portfolios. \n",
    "\n",
    "- **SemiDeviation**: Measures the variability of returns below the mean or below zero, highlighting the risk of negative fluctuations.\n",
    "- **Value at Risk (VaR)**: Estimates the maximum loss expected over a given time frame at a specific confidence level, capturing the potential extent of negative returns.\n",
    "- **Conditional Value at Risk (CVaR)**: Provides the expected loss exceeding the VaR, reflecting the severity of losses in the worst-case scenarios beyond the VaR threshold."
   ]
  },
  {
   "cell_type": "code",
   "execution_count": 145,
   "metadata": {},
   "outputs": [],
   "source": [
    "hfi = get_hfi_returns()"
   ]
  },
  {
   "cell_type": "code",
   "execution_count": 146,
   "metadata": {},
   "outputs": [],
   "source": [
    "def semideviation(returns):\n",
    "    \"\"\"\n",
    "    Computes the semideviation, also known as negative semideviation, of returns.\n",
    "    The input 'returns' should be a pandas Series or DataFrame. Otherwise, it throws a TypeError.\n",
    "    \"\"\"\n",
    "    negative_returns = returns[returns < 0]\n",
    "    return negative_returns.std(ddof=0)\n"
   ]
  },
  {
   "cell_type": "code",
   "execution_count": 150,
   "metadata": {},
   "outputs": [
    {
     "data": {
      "text/plain": [
       "Global Macro              0.006666\n",
       "Equity Market Neutral     0.009266\n",
       "CTA Global                0.012199\n",
       "Merger Arbitrage          0.012358\n",
       "Funds Of Funds            0.013161\n",
       "Relative Value            0.013551\n",
       "Long/Short Equity         0.015275\n",
       "Distressed Securities     0.017574\n",
       "Fixed Income Arbitrage    0.017645\n",
       "Event Driven              0.019643\n",
       "Convertible Arbitrage     0.020130\n",
       "Short Selling             0.027030\n",
       "Emerging Markets          0.028596\n",
       "dtype: float64"
      ]
     },
     "execution_count": 150,
     "metadata": {},
     "output_type": "execute_result"
    }
   ],
   "source": [
    "semideviation(hfi).sort_values()"
   ]
  },
  {
   "cell_type": "code",
   "execution_count": 151,
   "metadata": {},
   "outputs": [
    {
     "data": {
      "text/plain": [
       "SmallCap    0.051507\n",
       "LargeCap    0.039915\n",
       "dtype: float64"
      ]
     },
     "execution_count": 151,
     "metadata": {},
     "output_type": "execute_result"
    }
   ],
   "source": [
    "ffme = get_ffme_returns()\n",
    "semideviation(ffme)"
   ]
  },
  {
   "cell_type": "markdown",
   "metadata": {},
   "source": [
    "# Value at Risk (VaR) and Conditional Value at Risk (CVaR)\n",
    "\n",
    "In this section, we explore three methodologies to calculate Value at Risk (VaR):\n",
    "\n",
    "1. Historical VaR\n",
    "2. Parametric Gaussian VaR\n",
    "3. Modified (Cornish-Fisher) VaR\n",
    "\n",
    "To determine the historical VaR at a specific confidence level, for instance, 5%, we identify the value below which 5% of the returns are observed and above which 95% of the returns are noted. Essentially, this involves calculating the 5th percentile of the return distribution."
   ]
  },
  {
   "cell_type": "code",
   "execution_count": 153,
   "metadata": {},
   "outputs": [],
   "source": [
    "def var_historic(r, level=5):\n",
    "    \"\"\"\n",
    "    Calculates the historic Value at Risk (VaR) at a given level.\n",
    "    VaR represents the threshold loss over a specified time period, under normal market conditions, \n",
    "    that will not be exceeded with a certain confidence level. Thus, \"level\" percent of returns are below this value,\n",
    "    and (100 - level) percent are above.\n",
    "    \n",
    "    Parameters:\n",
    "    - r: Returns data, expected to be a pandas Series or DataFrame.\n",
    "    - level: The percentile at which to calculate VaR (default is 5).\n",
    "    \n",
    "    Returns:\n",
    "    - The VaR value, with the sign adjusted to indicate loss (negative).\n",
    "    \"\"\"\n",
    "    if isinstance(r, pd.DataFrame):\n",
    "        return r.aggregate(var_historic, level=level)\n",
    "    elif isinstance(r, pd.Series):\n",
    "        return -np.percentile(r, level)\n",
    "    else:\n",
    "        raise TypeError(\"Expected 'r' to be a Series or DataFrame\")"
   ]
  },
  {
   "cell_type": "code",
   "execution_count": 154,
   "metadata": {},
   "outputs": [
    {
     "data": {
      "text/plain": [
       "Convertible Arbitrage     0.034567\n",
       "CTA Global                0.047713\n",
       "Distressed Securities     0.053599\n",
       "Emerging Markets          0.099628\n",
       "Equity Market Neutral     0.021331\n",
       "Event Driven              0.062514\n",
       "Fixed Income Arbitrage    0.041114\n",
       "Global Macro              0.026391\n",
       "Long/Short Equity         0.055739\n",
       "Merger Arbitrage          0.026763\n",
       "Relative Value            0.035479\n",
       "Short Selling                  NaN\n",
       "Funds Of Funds            0.060112\n",
       "dtype: float64"
      ]
     },
     "execution_count": 154,
     "metadata": {},
     "output_type": "execute_result"
    }
   ],
   "source": [
    "var_historic(hfi, level=1)"
   ]
  },
  {
   "cell_type": "markdown",
   "metadata": {},
   "source": [
    "## Conditional VaR"
   ]
  },
  {
   "cell_type": "code",
   "execution_count": 157,
   "metadata": {},
   "outputs": [],
   "source": [
    "def cvar_historic(r, level=5):\n",
    "    \"\"\"\n",
    "    Calculates the Conditional Value at Risk (CVaR) for a given set of returns.\n",
    "    CVaR provides the average loss over a specified time period, given that the loss is beyond the VaR level.\n",
    "    \n",
    "    Parameters:\n",
    "    - r: A pandas Series or DataFrame containing return values.\n",
    "    - level: The confidence level as a percentage used to calculate VaR (default is 5).\n",
    "    \n",
    "    Returns:\n",
    "    - The CVaR value, representing the mean of returns that are less than or equal to the VaR, expressed as a negative number.\n",
    "    \"\"\"\n",
    "    if isinstance(r, pd.Series):\n",
    "        var_level = -var_historic(r, level=level)\n",
    "        losses_beyond_var = r[r <= var_level]\n",
    "        return -losses_beyond_var.mean()\n",
    "    elif isinstance(r, pd.DataFrame):\n",
    "        return r.apply(cvar_historic, level=level)\n",
    "    else:\n",
    "        raise TypeError(\"Input 'r' must be a pandas Series or DataFrame\")\n"
   ]
  },
  {
   "cell_type": "code",
   "execution_count": 158,
   "metadata": {},
   "outputs": [
    {
     "data": {
      "text/plain": [
       "Global Macro              0.029767\n",
       "Equity Market Neutral     0.037200\n",
       "Merger Arbitrage          0.053667\n",
       "CTA Global                0.054767\n",
       "Relative Value            0.061600\n",
       "Funds Of Funds            0.064633\n",
       "Long/Short Equity         0.070567\n",
       "Fixed Income Arbitrage    0.072467\n",
       "Distressed Securities     0.089067\n",
       "Event Driven              0.092733\n",
       "Convertible Arbitrage     0.098800\n",
       "Emerging Markets          0.147967\n",
       "Short Selling                  NaN\n",
       "dtype: float64"
      ]
     },
     "execution_count": 158,
     "metadata": {},
     "output_type": "execute_result"
    }
   ],
   "source": [
    "cvar_historic(hfi, level=1).sort_values()"
   ]
  },
  {
   "cell_type": "markdown",
   "metadata": {},
   "source": [
    "## Parametric Gaussian VaR\n",
    "\n",
    "Parametric Gaussian Value at Risk (VaR) is a statistical technique used to estimate the potential loss in value of a portfolio over a set period, under normal market conditions, at a specific confidence level. This method, also known as the variance-covariance method, assumes that returns are normally distributed. The beauty of the Parametric Gaussian VaR lies in its simplicity and efficiency. By utilizing the mean and standard deviation of the portfolio's returns, it computes the VaR directly through a formula, avoiding the need for extensive historical return data. This approach makes it particularly appealing for portfolios where the underlying assets exhibit stable volatility and returns that closely follow a Gaussian distribution. Through its analytical nature, Parametric Gaussian VaR offers a quick and insightful measure of risk, providing investors with a clear threshold of potential loss that helps in making informed decisions."
   ]
  },
  {
   "cell_type": "code",
   "execution_count": 164,
   "metadata": {},
   "outputs": [],
   "source": [
    "def var_gaussian(r, level=5):\n",
    "    \"\"\"\n",
    "    Calculates the Parametric Gaussian Value at Risk (VaR) for a series of returns.\n",
    "    This method assumes the returns follow a normal distribution and computes VaR as\n",
    "    the maximum expected loss at a specified confidence level.\n",
    "\n",
    "    Parameters:\n",
    "    - r: A pandas Series or DataFrame containing return values.\n",
    "    - level: The percentile used to determine the VaR (default is 5).\n",
    "\n",
    "    Returns:\n",
    "    - The VaR value, reflecting the potential loss at the given confidence level.\n",
    "    \"\"\"\n",
    "    # Calculate the Z-score corresponding to the given confidence level\n",
    "    z_score = norm.ppf(level / 100.0)\n",
    "    # Apply the Parametric Gaussian VaR formula\n",
    "    return -(r.mean() + z_score * r.std(ddof=0))"
   ]
  },
  {
   "cell_type": "code",
   "execution_count": 165,
   "metadata": {},
   "outputs": [
    {
     "data": {
      "text/plain": [
       "Convertible Arbitrage     0.021699\n",
       "CTA Global                0.033084\n",
       "Distressed Securities     0.022909\n",
       "Emerging Markets          0.046880\n",
       "Equity Market Neutral     0.009127\n",
       "Event Driven              0.024606\n",
       "Fixed Income Arbitrage    0.014391\n",
       "Global Macro              0.018491\n",
       "Long/Short Equity         0.027569\n",
       "Merger Arbitrage          0.013250\n",
       "Relative Value            0.013735\n",
       "Short Selling             0.076739\n",
       "Funds Of Funds            0.021859\n",
       "dtype: float64"
      ]
     },
     "execution_count": 165,
     "metadata": {},
     "output_type": "execute_result"
    }
   ],
   "source": [
    "var_gaussian(hfi)"
   ]
  },
  {
   "cell_type": "markdown",
   "metadata": {},
   "source": [
    "# Cornish-Fisher Modification\n",
    "\n",
    "The Cornish-Fisher modification provides a straightforward adjustment to the z-score calculation. \n",
    "\n",
    "When returns deviate from a normal distribution, the standard z-score, which indicates how many standard deviations from the mean a particular value lies, may not accurately reflect the Value at Risk (VaR). Recognizing that real-world data exhibit skewness and kurtosis, this modification adjusts the z-score based on these moments to provide a more accurate estimation of VaR. \n",
    "\n",
    "Intuitively, for a given level of skewness (S) and kurtosis (K), the modification alters the z-score:\n",
    "- If skewness is negative, indicating more extreme negative returns than expected under normality, the z-score is adjusted downward.\n",
    "- Conversely, with positive skewness, suggesting fewer extreme negative returns, the z-score is adjusted upward.\n",
    "\n",
    "The modified z-score is calculated as follows:\n",
    "\n",
    "$$ z_{cornishfisher} = z +\\frac{1}{6}(z^2-1)S + \\frac{1}{24}(z^3-3z)(K-3)-\\frac{1}{36}(2z^3-5z)S^2 $$\n",
    "\n",
    "\n",
    "This adjustment allows for a more nuanced approach to estimating VaR, taking into account the actual distributional characteristics of the returns.\n"
   ]
  },
  {
   "cell_type": "code",
   "execution_count": 166,
   "metadata": {},
   "outputs": [],
   "source": [
    "def var_gaussian(r, level=5, modified=False):\n",
    "    \"\"\"\n",
    "    Calculates the Parametric Gaussian Value at Risk (VaR) for a series of returns.\n",
    "    Optionally applies the Cornish-Fisher modification to adjust for skewness and kurtosis\n",
    "    in the return distribution, providing a more accurate VaR under non-normal conditions.\n",
    "\n",
    "    Parameters:\n",
    "    - r: A pandas Series or DataFrame of return values.\n",
    "    - level: The confidence level as a percentage for VaR calculation (default 5).\n",
    "    - modified: Boolean flag to apply the Cornish-Fisher modification (default False).\n",
    "\n",
    "    Returns:\n",
    "    - The calculated VaR, negative indicating a loss.\n",
    "    \"\"\"\n",
    "    # Calculate the standard Gaussian Z-score\n",
    "    z_score = norm.ppf(level / 100.0)\n",
    "    if modified:\n",
    "        # Adjust Z-score for observed skewness and kurtosis using Cornish-Fisher\n",
    "        skewness_val = skewness(r)\n",
    "        kurtosis_val = kurtosis(r)\n",
    "        z_score = (z_score +\n",
    "                   (z_score**2 - 1) * skewness_val / 6 +\n",
    "                   (z_score**3 - 3 * z_score) * (kurtosis_val - 3) / 24 -\n",
    "                   (2 * z_score**3 - 5 * z_score) * (skewness_val**2) / 36\n",
    "                  )\n",
    "    # Apply the (possibly modified) Z-score to calculate VaR\n",
    "    return -(r.mean() + z_score * r.std(ddof=0))\n"
   ]
  },
  {
   "cell_type": "code",
   "execution_count": 176,
   "metadata": {},
   "outputs": [
    {
     "data": {
      "text/plain": [
       "<Figure size 1000x600 with 0 Axes>"
      ]
     },
     "metadata": {},
     "output_type": "display_data"
    },
    {
     "data": {
      "image/png": "[encoded data removed]",
      "text/plain": [
       "<Figure size 640x480 with 1 Axes>"
      ]
     },
     "metadata": {},
     "output_type": "display_data"
    }
   ],
   "source": [
    "var_table = [\n",
    "    var_gaussian(hfi), \n",
    "    var_gaussian(hfi, modified=True), \n",
    "    var_historic(hfi)\n",
    "]\n",
    "\n",
    "comparison = pd.concat(var_table, axis=1)\n",
    "comparison.columns = ['Gaussian', 'Cornish-Fisher', 'Historic']\n",
    "\n",
    "# Plotting\n",
    "plt.figure(figsize=(10, 6))  # Set the figure size\n",
    "comparison.plot.bar(\n",
    "    title=\"Hedge Fund Indices: VaR at 5%\",\n",
    "    color=['#1f77b4', '#ff7f0e', '#2ca02c'],  # Custom colors\n",
    "    edgecolor='black'  # Add edgecolor for distinction\n",
    ")\n",
    "\n",
    "plt.title(\"Hedge Fund Indices: VaR at 5%\", fontweight='bold')\n",
    "plt.ylabel(\"VaR (%)\")\n",
    "plt.xlabel(\"Indices\")\n",
    "plt.grid(axis='y', linestyle='--', alpha=0.7)  # Add horizontal gridlines for readability\n",
    "\n",
    "plt.tight_layout()  # Adjust the layout to make room for the rotated x-axis labels\n",
    "plt.show()\n"
   ]
  },
  {
   "cell_type": "code",
   "execution_count": null,
   "metadata": {},
   "outputs": [],
   "source": []
  }
 ],
 "metadata": {
  "kernelspec": {
   "display_name": "Python 3 (ipykernel)",
   "language": "python",
   "name": "python3"
  },
  "language_info": {
   "codemirror_mode": {
    "name": "ipython",
    "version": 3
   },
   "file_extension": ".py",
   "mimetype": "text/x-python",
   "name": "python",
   "nbconvert_exporter": "python",
   "pygments_lexer": "ipython3",
   "version": "3.11.7"
  }
 },
 "nbformat": 4,
 "nbformat_minor": 4
}
